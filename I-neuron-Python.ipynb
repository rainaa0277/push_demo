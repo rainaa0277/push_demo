{
 "cells": [
  {
   "cell_type": "code",
   "execution_count": 1,
   "id": "0c938ccf",
   "metadata": {},
   "outputs": [
    {
     "name": "stdout",
     "output_type": "stream",
     "text": [
      "This is not a prime number\n"
     ]
    }
   ],
   "source": [
    "def is_prime(num):\n",
    "    for i in range(2,num):\n",
    "        if num%i==0:\n",
    "            print(\"This is not a prime number\")\n",
    "            break\n",
    "    else:\n",
    "        print(\"This is a prime number\")      \n",
    "is_prime(10)          "
   ]
  },
  {
   "cell_type": "markdown",
   "id": "9b65b24a",
   "metadata": {},
   "source": [
    "# Iterator and Iterable objects"
   ]
  },
  {
   "cell_type": "code",
   "execution_count": 2,
   "id": "ff8400eb",
   "metadata": {},
   "outputs": [
    {
     "ename": "TypeError",
     "evalue": "'str' object is not an iterator",
     "output_type": "error",
     "traceback": [
      "\u001b[0;31m---------------------------------------------------------------------------\u001b[0m",
      "\u001b[0;31mTypeError\u001b[0m                                 Traceback (most recent call last)",
      "\u001b[0;32m/tmp/ipykernel_13115/2873591518.py\u001b[0m in \u001b[0;36m<module>\u001b[0;34m\u001b[0m\n\u001b[0;32m----> 1\u001b[0;31m \u001b[0mnext\u001b[0m\u001b[0;34m(\u001b[0m\u001b[0;34m\"rishab\"\u001b[0m\u001b[0;34m)\u001b[0m   \u001b[0;31m#String by default is not an iterator\u001b[0m\u001b[0;34m\u001b[0m\u001b[0;34m\u001b[0m\u001b[0m\n\u001b[0m",
      "\u001b[0;31mTypeError\u001b[0m: 'str' object is not an iterator"
     ]
    }
   ],
   "source": [
    "next(\"rishab\")   #String by default is not an iterator"
   ]
  },
  {
   "cell_type": "code",
   "execution_count": null,
   "id": "27dae764",
   "metadata": {},
   "outputs": [],
   "source": [
    "r = iter(\"rishab\")  #A string is an iterable, hence we can convert any iterable to an iterator\n",
    "print(type(r))"
   ]
  },
  {
   "cell_type": "code",
   "execution_count": null,
   "id": "d02ba5af",
   "metadata": {},
   "outputs": [],
   "source": [
    "next(r)  #Next function iterates to the next value"
   ]
  },
  {
   "cell_type": "markdown",
   "id": "4a903486",
   "metadata": {},
   "source": [
    "# Generator :\n",
    "It generates new dataset everytime, but remembering the fact what dataset was generated the last time"
   ]
  },
  {
   "cell_type": "code",
   "execution_count": null,
   "id": "eb70b8e9",
   "metadata": {},
   "outputs": [],
   "source": [
    "def gencube(n):\n",
    "    for i in range(n):\n",
    "        print(i**3)\n",
    "        \n",
    "gencube(5)"
   ]
  },
  {
   "cell_type": "code",
   "execution_count": null,
   "id": "a98d9e23",
   "metadata": {},
   "outputs": [],
   "source": [
    "def gencube(n):\n",
    "    for i in range(n):\n",
    "        yield i**3\n",
    "\n",
    "gencube(5)"
   ]
  },
  {
   "cell_type": "code",
   "execution_count": null,
   "id": "e1c1789a",
   "metadata": {},
   "outputs": [],
   "source": [
    "for i in gencube(13):\n",
    "    print(i, end=\" \")"
   ]
  },
  {
   "cell_type": "code",
   "execution_count": null,
   "id": "aa1b2e19",
   "metadata": {},
   "outputs": [],
   "source": [
    "next(gencube(13)) #this only returns 0 which means it is not an iterable"
   ]
  },
  {
   "cell_type": "code",
   "execution_count": null,
   "id": "f09be379",
   "metadata": {},
   "outputs": [],
   "source": [
    "i = iter(gencube(13))  #now generator is converted into iterator"
   ]
  },
  {
   "cell_type": "code",
   "execution_count": null,
   "id": "4c07e763",
   "metadata": {},
   "outputs": [],
   "source": [
    "next(i)"
   ]
  },
  {
   "cell_type": "code",
   "execution_count": null,
   "id": "4dbb1927",
   "metadata": {},
   "outputs": [],
   "source": [
    "# create a fibonacci series but donot output any number, just create a generator function.\n",
    "\n",
    "def genfi(n):\n",
    "    a = 1\n",
    "    b = 1\n",
    "    for i in range(n):\n",
    "        yield a\n",
    "        a , b = b , a+b    "
   ]
  },
  {
   "cell_type": "code",
   "execution_count": null,
   "id": "89899f3c",
   "metadata": {},
   "outputs": [],
   "source": [
    "v = iter(genfi(10))"
   ]
  },
  {
   "cell_type": "code",
   "execution_count": null,
   "id": "8a5b8e69",
   "metadata": {},
   "outputs": [],
   "source": [
    "next(v)"
   ]
  },
  {
   "cell_type": "code",
   "execution_count": null,
   "id": "78a730b7",
   "metadata": {},
   "outputs": [],
   "source": [
    "for i in genfi(20):\n",
    "    print(i, end=\" \")"
   ]
  },
  {
   "cell_type": "markdown",
   "id": "ba06070e",
   "metadata": {},
   "source": [
    "# Map filter reduce"
   ]
  },
  {
   "cell_type": "code",
   "execution_count": null,
   "id": "e912cb1a",
   "metadata": {},
   "outputs": [],
   "source": [
    "#MAP :\n",
    "#find the square of each number and return the list\n",
    "# Approach 1\n",
    "l = [2,3,4,5,6,7,8,9]\n",
    "n = []\n",
    "for i in l:\n",
    "    n.append(i**2)\n",
    "print(n, end=\" \")"
   ]
  },
  {
   "cell_type": "code",
   "execution_count": null,
   "id": "3147bbfc",
   "metadata": {},
   "outputs": [],
   "source": [
    "#Approach 2 -Create a function to use MAP\n",
    "def sq(n):\n",
    "    return n**2"
   ]
  },
  {
   "cell_type": "code",
   "execution_count": null,
   "id": "12f59851",
   "metadata": {},
   "outputs": [],
   "source": [
    "list(map(sq,l))"
   ]
  },
  {
   "cell_type": "code",
   "execution_count": null,
   "id": "59ca0cf9",
   "metadata": {},
   "outputs": [],
   "source": [
    "for i in map(sq,l):\n",
    "    print(i, end=\" \")"
   ]
  },
  {
   "cell_type": "code",
   "execution_count": null,
   "id": "f961d148",
   "metadata": {},
   "outputs": [],
   "source": [
    "#Approach 3 - Using lambda function\n",
    "\n",
    "list(map(lambda x : x**2, l))"
   ]
  },
  {
   "cell_type": "code",
   "execution_count": null,
   "id": "189de8a2",
   "metadata": {},
   "outputs": [],
   "source": [
    "# we can also store the lambda function insider a variable to increase the reusability\n",
    "c = lambda x : x**2"
   ]
  },
  {
   "cell_type": "code",
   "execution_count": null,
   "id": "1a3eb0db",
   "metadata": {},
   "outputs": [],
   "source": [
    "list(map(c,l))"
   ]
  },
  {
   "cell_type": "code",
   "execution_count": null,
   "id": "852e3d19",
   "metadata": {},
   "outputs": [],
   "source": [
    "# Add the number of each list index wise\n",
    "a = [1,2,3,4,5]\n",
    "b = [5,6,7,4,3]\n",
    "c = [6,7,8,6,5,5,4]"
   ]
  },
  {
   "cell_type": "code",
   "execution_count": null,
   "id": "d825b0d9",
   "metadata": {},
   "outputs": [],
   "source": [
    "def summation(x,y,z):\n",
    "    return x+y+z"
   ]
  },
  {
   "cell_type": "code",
   "execution_count": null,
   "id": "83212ba3",
   "metadata": {},
   "outputs": [],
   "source": [
    "list(map(summation, a,b,c))"
   ]
  },
  {
   "cell_type": "code",
   "execution_count": null,
   "id": "ec2777b6",
   "metadata": {},
   "outputs": [],
   "source": [
    "#Using lambda function\n",
    "\n",
    "list(map(lambda x,y,z : x+y+z, a, b, c))"
   ]
  },
  {
   "cell_type": "markdown",
   "id": "e21f434b",
   "metadata": {},
   "source": [
    "# AND NEURAL NETWORK"
   ]
  },
  {
   "cell_type": "code",
   "execution_count": 35,
   "id": "b9c9f02d",
   "metadata": {},
   "outputs": [],
   "source": [
    "import pandas as pd\n",
    "import numpy as np"
   ]
  },
  {
   "cell_type": "code",
   "execution_count": 36,
   "id": "458566c6",
   "metadata": {
    "scrolled": true
   },
   "outputs": [
    {
     "data": {
      "text/html": [
       "<div>\n",
       "<style scoped>\n",
       "    .dataframe tbody tr th:only-of-type {\n",
       "        vertical-align: middle;\n",
       "    }\n",
       "\n",
       "    .dataframe tbody tr th {\n",
       "        vertical-align: top;\n",
       "    }\n",
       "\n",
       "    .dataframe thead th {\n",
       "        text-align: right;\n",
       "    }\n",
       "</style>\n",
       "<table border=\"1\" class=\"dataframe\">\n",
       "  <thead>\n",
       "    <tr style=\"text-align: right;\">\n",
       "      <th></th>\n",
       "      <th>x1</th>\n",
       "      <th>x2</th>\n",
       "      <th>y</th>\n",
       "    </tr>\n",
       "  </thead>\n",
       "  <tbody>\n",
       "    <tr>\n",
       "      <th>0</th>\n",
       "      <td>0</td>\n",
       "      <td>0</td>\n",
       "      <td>0</td>\n",
       "    </tr>\n",
       "    <tr>\n",
       "      <th>1</th>\n",
       "      <td>0</td>\n",
       "      <td>1</td>\n",
       "      <td>0</td>\n",
       "    </tr>\n",
       "    <tr>\n",
       "      <th>2</th>\n",
       "      <td>1</td>\n",
       "      <td>0</td>\n",
       "      <td>0</td>\n",
       "    </tr>\n",
       "    <tr>\n",
       "      <th>3</th>\n",
       "      <td>1</td>\n",
       "      <td>1</td>\n",
       "      <td>1</td>\n",
       "    </tr>\n",
       "  </tbody>\n",
       "</table>\n",
       "</div>"
      ],
      "text/plain": [
       "   x1  x2  y\n",
       "0   0   0  0\n",
       "1   0   1  0\n",
       "2   1   0  0\n",
       "3   1   1  1"
      ]
     },
     "execution_count": 36,
     "metadata": {},
     "output_type": "execute_result"
    }
   ],
   "source": [
    "AND = pd.DataFrame({\"x1\": (0,0,1,1), \"x2\": (0,1,0,1), \"y\": (0,0,0,1)})\n",
    "AND"
   ]
  },
  {
   "cell_type": "code",
   "execution_count": 37,
   "id": "b6362725",
   "metadata": {},
   "outputs": [
    {
     "data": {
      "text/plain": [
       "array([ 6.28808578e-04, -1.64162918e-03, -9.79964092e-06])"
      ]
     },
     "execution_count": 37,
     "metadata": {},
     "output_type": "execute_result"
    }
   ],
   "source": [
    "#initializing random weights\n",
    "\n",
    "w = np.random.randn(3) * 0.001\n",
    "w"
   ]
  },
  {
   "cell_type": "code",
   "execution_count": 38,
   "id": "22f41304",
   "metadata": {},
   "outputs": [],
   "source": [
    "#Add activation function\n",
    "\n",
    "a = lambda inputs , weight : np.where(np.dot(inputs, weight) > 0, 1 ,0)"
   ]
  },
  {
   "cell_type": "markdown",
   "id": "05eb509e",
   "metadata": {},
   "source": [
    "Finally a training function that iterates the learning algorithm, returning the adapted weights"
   ]
  },
  {
   "cell_type": "code",
   "execution_count": 39,
   "id": "57aaf02c",
   "metadata": {},
   "outputs": [],
   "source": [
    "def train(inputs, targets, weights, eta, epochs):\n",
    "    \n",
    "    inputs = np.c_[inputs , -np.ones((len(inputs),1))]\n",
    "    \n",
    "    #As inputs + bias is ready, pass to the activation func\n",
    "    for i in range(epochs):\n",
    "        activations = a(inputs, weights)\n",
    "        print(i , activations)\n",
    "        \n",
    "        weights = weights - eta * np.dot(np.transpose(inputs), activations - targets)\n",
    "        print(i, weights)\n",
    "        \n",
    "    return weights"
   ]
  },
  {
   "cell_type": "code",
   "execution_count": 40,
   "id": "be44dc12",
   "metadata": {},
   "outputs": [],
   "source": [
    "inputs = AND[[\"x1\",\"x2\"]]\n",
    "targets = AND[\"y\"]"
   ]
  },
  {
   "cell_type": "code",
   "execution_count": 41,
   "id": "c5a31744",
   "metadata": {},
   "outputs": [
    {
     "name": "stdout",
     "output_type": "stream",
     "text": [
      "0 [1 0 1 0]\n",
      "0 [0.00062881 0.00835837 0.0099902 ]\n",
      "1 [0 0 0 0]\n",
      "1 [ 1.06288086e-02  1.83583708e-02 -9.79964092e-06]\n",
      "2 [1 1 1 1]\n",
      "2 [0.00062881 0.00835837 0.0299902 ]\n",
      "3 [0 0 0 0]\n",
      "3 [0.01062881 0.01835837 0.0199902 ]\n",
      "4 [0 0 0 1]\n",
      "4 [0.01062881 0.01835837 0.0199902 ]\n",
      "5 [0 0 0 1]\n",
      "5 [0.01062881 0.01835837 0.0199902 ]\n",
      "6 [0 0 0 1]\n",
      "6 [0.01062881 0.01835837 0.0199902 ]\n",
      "7 [0 0 0 1]\n",
      "7 [0.01062881 0.01835837 0.0199902 ]\n",
      "8 [0 0 0 1]\n",
      "8 [0.01062881 0.01835837 0.0199902 ]\n",
      "9 [0 0 0 1]\n",
      "9 [0.01062881 0.01835837 0.0199902 ]\n",
      "10 [0 0 0 1]\n",
      "10 [0.01062881 0.01835837 0.0199902 ]\n",
      "11 [0 0 0 1]\n",
      "11 [0.01062881 0.01835837 0.0199902 ]\n"
     ]
    },
    {
     "data": {
      "text/plain": [
       "array([0.01062881, 0.01835837, 0.0199902 ])"
      ]
     },
     "execution_count": 41,
     "metadata": {},
     "output_type": "execute_result"
    }
   ],
   "source": [
    "train(inputs, targets, weights = w, eta = 0.01, epochs=12)"
   ]
  },
  {
   "cell_type": "markdown",
   "id": "c1b6cdfd",
   "metadata": {},
   "source": [
    "# OR NEURAL NETWORK"
   ]
  },
  {
   "cell_type": "code",
   "execution_count": 74,
   "id": "78e630d0",
   "metadata": {},
   "outputs": [
    {
     "data": {
      "text/html": [
       "<div>\n",
       "<style scoped>\n",
       "    .dataframe tbody tr th:only-of-type {\n",
       "        vertical-align: middle;\n",
       "    }\n",
       "\n",
       "    .dataframe tbody tr th {\n",
       "        vertical-align: top;\n",
       "    }\n",
       "\n",
       "    .dataframe thead th {\n",
       "        text-align: right;\n",
       "    }\n",
       "</style>\n",
       "<table border=\"1\" class=\"dataframe\">\n",
       "  <thead>\n",
       "    <tr style=\"text-align: right;\">\n",
       "      <th></th>\n",
       "      <th>x1</th>\n",
       "      <th>x2</th>\n",
       "      <th>y</th>\n",
       "    </tr>\n",
       "  </thead>\n",
       "  <tbody>\n",
       "    <tr>\n",
       "      <th>0</th>\n",
       "      <td>0</td>\n",
       "      <td>0</td>\n",
       "      <td>0</td>\n",
       "    </tr>\n",
       "    <tr>\n",
       "      <th>1</th>\n",
       "      <td>0</td>\n",
       "      <td>1</td>\n",
       "      <td>1</td>\n",
       "    </tr>\n",
       "    <tr>\n",
       "      <th>2</th>\n",
       "      <td>1</td>\n",
       "      <td>0</td>\n",
       "      <td>1</td>\n",
       "    </tr>\n",
       "    <tr>\n",
       "      <th>3</th>\n",
       "      <td>1</td>\n",
       "      <td>1</td>\n",
       "      <td>1</td>\n",
       "    </tr>\n",
       "  </tbody>\n",
       "</table>\n",
       "</div>"
      ],
      "text/plain": [
       "   x1  x2  y\n",
       "0   0   0  0\n",
       "1   0   1  1\n",
       "2   1   0  1\n",
       "3   1   1  1"
      ]
     },
     "execution_count": 74,
     "metadata": {},
     "output_type": "execute_result"
    }
   ],
   "source": [
    "OR = pd.DataFrame({\"x1\":(0,0,1,1), \"x2\":(0,1,0,1), \"y\": (0,1,1,1)})\n",
    "OR"
   ]
  },
  {
   "cell_type": "code",
   "execution_count": 75,
   "id": "94c941aa",
   "metadata": {},
   "outputs": [
    {
     "data": {
      "text/plain": [
       "array([-0.00032138, -0.00053896, -0.00073503])"
      ]
     },
     "execution_count": 75,
     "metadata": {},
     "output_type": "execute_result"
    }
   ],
   "source": [
    "#initialized the random weights\n",
    "w = np.random.randn(3) * 0.003\n",
    "w"
   ]
  },
  {
   "cell_type": "code",
   "execution_count": 76,
   "id": "a0106dbd",
   "metadata": {},
   "outputs": [],
   "source": [
    "#Add an activation function\n",
    "a = lambda inputs, weights : np.where(np.dot(inputs, weights) > 0,1,0)"
   ]
  },
  {
   "cell_type": "code",
   "execution_count": 77,
   "id": "cb92c693",
   "metadata": {},
   "outputs": [],
   "source": [
    "def train(inputs, targets, weights, eta, epochs):\n",
    "    \n",
    "    inputs = np.c_[inputs , -np.ones((len(inputs),1))]\n",
    "    \n",
    "    for i in range(epochs):\n",
    "        activations = a(inputs, weights)\n",
    "        print(i, activations)\n",
    "        \n",
    "        weights = weights - eta * np.dot(np.transpose(inputs), activations - targets)\n",
    "        print(i, weights)\n",
    "    \n",
    "    return weights   "
   ]
  },
  {
   "cell_type": "code",
   "execution_count": 78,
   "id": "d51cd463",
   "metadata": {},
   "outputs": [],
   "source": [
    "inputs = OR[[\"x1\",\"x2\"]]\n",
    "targets = OR[\"y\"]"
   ]
  },
  {
   "cell_type": "code",
   "execution_count": 79,
   "id": "afff0922",
   "metadata": {},
   "outputs": [
    {
     "name": "stdout",
     "output_type": "stream",
     "text": [
      "0 [1 1 1 0]\n",
      "0 [-0.00022138 -0.00043896 -0.00073503]\n",
      "1 [1 1 1 1]\n",
      "1 [-0.00022138 -0.00043896 -0.00063503]\n",
      "2 [1 1 1 0]\n",
      "2 [-0.00012138 -0.00033896 -0.00063503]\n",
      "3 [1 1 1 1]\n",
      "3 [-0.00012138 -0.00033896 -0.00053503]\n",
      "4 [1 1 1 1]\n",
      "4 [-0.00012138 -0.00033896 -0.00043503]\n",
      "5 [1 1 1 0]\n",
      "5 [-2.13821742e-05 -2.38963322e-04 -4.35026308e-04]\n",
      "6 [1 1 1 1]\n",
      "6 [-2.13821742e-05 -2.38963322e-04 -3.35026308e-04]\n",
      "7 [1 1 1 1]\n",
      "7 [-2.13821742e-05 -2.38963322e-04 -2.35026308e-04]\n",
      "8 [1 0 1 0]\n",
      "8 [ 7.86178258e-05 -3.89633224e-05 -3.35026308e-04]\n",
      "9 [1 1 1 1]\n",
      "9 [ 7.86178258e-05 -3.89633224e-05 -2.35026308e-04]\n",
      "10 [1 1 1 1]\n",
      "10 [ 7.86178258e-05 -3.89633224e-05 -1.35026308e-04]\n",
      "11 [1 1 1 1]\n",
      "11 [ 7.86178258e-05 -3.89633224e-05 -3.50263084e-05]\n",
      "12 [1 0 1 1]\n",
      "12 [ 7.86178258e-05  6.10366776e-05 -3.50263084e-05]\n",
      "13 [1 1 1 1]\n",
      "13 [7.86178258e-05 6.10366776e-05 6.49736916e-05]\n",
      "14 [0 0 1 1]\n",
      "14 [ 7.86178258e-05  1.61036678e-04 -3.50263084e-05]\n",
      "15 [1 1 1 1]\n",
      "15 [7.86178258e-05 1.61036678e-04 6.49736916e-05]\n",
      "16 [0 1 1 1]\n",
      "16 [7.86178258e-05 1.61036678e-04 6.49736916e-05]\n",
      "17 [0 1 1 1]\n",
      "17 [7.86178258e-05 1.61036678e-04 6.49736916e-05]\n",
      "18 [0 1 1 1]\n",
      "18 [7.86178258e-05 1.61036678e-04 6.49736916e-05]\n",
      "19 [0 1 1 1]\n",
      "19 [7.86178258e-05 1.61036678e-04 6.49736916e-05]\n",
      "20 [0 1 1 1]\n",
      "20 [7.86178258e-05 1.61036678e-04 6.49736916e-05]\n",
      "21 [0 1 1 1]\n",
      "21 [7.86178258e-05 1.61036678e-04 6.49736916e-05]\n",
      "22 [0 1 1 1]\n",
      "22 [7.86178258e-05 1.61036678e-04 6.49736916e-05]\n",
      "23 [0 1 1 1]\n",
      "23 [7.86178258e-05 1.61036678e-04 6.49736916e-05]\n",
      "24 [0 1 1 1]\n",
      "24 [7.86178258e-05 1.61036678e-04 6.49736916e-05]\n",
      "25 [0 1 1 1]\n",
      "25 [7.86178258e-05 1.61036678e-04 6.49736916e-05]\n",
      "26 [0 1 1 1]\n",
      "26 [7.86178258e-05 1.61036678e-04 6.49736916e-05]\n",
      "27 [0 1 1 1]\n",
      "27 [7.86178258e-05 1.61036678e-04 6.49736916e-05]\n",
      "28 [0 1 1 1]\n",
      "28 [7.86178258e-05 1.61036678e-04 6.49736916e-05]\n",
      "29 [0 1 1 1]\n",
      "29 [7.86178258e-05 1.61036678e-04 6.49736916e-05]\n"
     ]
    },
    {
     "data": {
      "text/plain": [
       "array([7.86178258e-05, 1.61036678e-04, 6.49736916e-05])"
      ]
     },
     "execution_count": 79,
     "metadata": {},
     "output_type": "execute_result"
    }
   ],
   "source": [
    "train(inputs, targets, w, 0.0001, 30)"
   ]
  },
  {
   "cell_type": "markdown",
   "id": "8a8037fc",
   "metadata": {},
   "source": [
    "# XOR GATE"
   ]
  },
  {
   "cell_type": "code",
   "execution_count": 119,
   "id": "2150d832",
   "metadata": {},
   "outputs": [
    {
     "data": {
      "text/html": [
       "<div>\n",
       "<style scoped>\n",
       "    .dataframe tbody tr th:only-of-type {\n",
       "        vertical-align: middle;\n",
       "    }\n",
       "\n",
       "    .dataframe tbody tr th {\n",
       "        vertical-align: top;\n",
       "    }\n",
       "\n",
       "    .dataframe thead th {\n",
       "        text-align: right;\n",
       "    }\n",
       "</style>\n",
       "<table border=\"1\" class=\"dataframe\">\n",
       "  <thead>\n",
       "    <tr style=\"text-align: right;\">\n",
       "      <th></th>\n",
       "      <th>x1</th>\n",
       "      <th>x2</th>\n",
       "      <th>y</th>\n",
       "    </tr>\n",
       "  </thead>\n",
       "  <tbody>\n",
       "    <tr>\n",
       "      <th>0</th>\n",
       "      <td>0</td>\n",
       "      <td>0</td>\n",
       "      <td>0</td>\n",
       "    </tr>\n",
       "    <tr>\n",
       "      <th>1</th>\n",
       "      <td>0</td>\n",
       "      <td>1</td>\n",
       "      <td>1</td>\n",
       "    </tr>\n",
       "    <tr>\n",
       "      <th>2</th>\n",
       "      <td>1</td>\n",
       "      <td>0</td>\n",
       "      <td>1</td>\n",
       "    </tr>\n",
       "    <tr>\n",
       "      <th>3</th>\n",
       "      <td>1</td>\n",
       "      <td>1</td>\n",
       "      <td>0</td>\n",
       "    </tr>\n",
       "  </tbody>\n",
       "</table>\n",
       "</div>"
      ],
      "text/plain": [
       "   x1  x2  y\n",
       "0   0   0  0\n",
       "1   0   1  1\n",
       "2   1   0  1\n",
       "3   1   1  0"
      ]
     },
     "execution_count": 119,
     "metadata": {},
     "output_type": "execute_result"
    }
   ],
   "source": [
    "XOR = pd.DataFrame({\"x1\":(0,0,1,1), \"x2\":(0,1,0,1), \"y\":(0,1,1,0)})\n",
    "XOR"
   ]
  },
  {
   "cell_type": "code",
   "execution_count": 120,
   "id": "afbe5010",
   "metadata": {},
   "outputs": [
    {
     "data": {
      "text/plain": [
       "array([ 0.00087786, -0.00192937,  0.00297855])"
      ]
     },
     "execution_count": 120,
     "metadata": {},
     "output_type": "execute_result"
    }
   ],
   "source": [
    "w = np.random.randn(3) * 0.003\n",
    "w"
   ]
  },
  {
   "cell_type": "code",
   "execution_count": 121,
   "id": "afc7dce2",
   "metadata": {},
   "outputs": [],
   "source": [
    "a = lambda inputs, weights : np.where(np.dot(inputs, weights)>0,1,0)"
   ]
  },
  {
   "cell_type": "code",
   "execution_count": 122,
   "id": "e07ddbca",
   "metadata": {},
   "outputs": [],
   "source": [
    "def train(inputs, targets, weights, eta, epochs):\n",
    "    \n",
    "    inputs = np.c_[inputs, -np.ones((len(inputs),1))]\n",
    "    \n",
    "    for i in range(epochs):\n",
    "        activations = a(inputs, weights)\n",
    "        print(i, activations)\n",
    "        \n",
    "        weights = weights - eta * np.dot(np.transpose(inputs), activations - targets)\n",
    "        print(i, weights)\n",
    "    \n",
    "    return weights"
   ]
  },
  {
   "cell_type": "code",
   "execution_count": 123,
   "id": "84ef10a2",
   "metadata": {},
   "outputs": [],
   "source": [
    "inputs = XOR[[\"x1\",\"x2\"]]\n",
    "targets = XOR[\"y\"]"
   ]
  },
  {
   "cell_type": "code",
   "execution_count": 124,
   "id": "97e3cc54",
   "metadata": {},
   "outputs": [
    {
     "name": "stdout",
     "output_type": "stream",
     "text": [
      "0 [0 0 0 0]\n",
      "0 [ 2.87786351e-03  7.06292494e-05 -1.02145350e-03]\n",
      "1 [1 1 1 1]\n",
      "1 [ 0.00087786 -0.00192937  0.00297855]\n",
      "2 [0 0 0 0]\n",
      "2 [ 2.87786351e-03  7.06292494e-05 -1.02145350e-03]\n",
      "3 [1 1 1 1]\n",
      "3 [ 0.00087786 -0.00192937  0.00297855]\n",
      "4 [0 0 0 0]\n",
      "4 [ 2.87786351e-03  7.06292494e-05 -1.02145350e-03]\n",
      "5 [1 1 1 1]\n",
      "5 [ 0.00087786 -0.00192937  0.00297855]\n",
      "6 [0 0 0 0]\n",
      "6 [ 2.87786351e-03  7.06292494e-05 -1.02145350e-03]\n",
      "7 [1 1 1 1]\n",
      "7 [ 0.00087786 -0.00192937  0.00297855]\n",
      "8 [0 0 0 0]\n",
      "8 [ 2.87786351e-03  7.06292494e-05 -1.02145350e-03]\n",
      "9 [1 1 1 1]\n",
      "9 [ 0.00087786 -0.00192937  0.00297855]\n",
      "10 [0 0 0 0]\n",
      "10 [ 2.87786351e-03  7.06292494e-05 -1.02145350e-03]\n",
      "11 [1 1 1 1]\n",
      "11 [ 0.00087786 -0.00192937  0.00297855]\n",
      "12 [0 0 0 0]\n",
      "12 [ 2.87786351e-03  7.06292494e-05 -1.02145350e-03]\n",
      "13 [1 1 1 1]\n",
      "13 [ 0.00087786 -0.00192937  0.00297855]\n",
      "14 [0 0 0 0]\n",
      "14 [ 2.87786351e-03  7.06292494e-05 -1.02145350e-03]\n",
      "15 [1 1 1 1]\n",
      "15 [ 0.00087786 -0.00192937  0.00297855]\n",
      "16 [0 0 0 0]\n",
      "16 [ 2.87786351e-03  7.06292494e-05 -1.02145350e-03]\n",
      "17 [1 1 1 1]\n",
      "17 [ 0.00087786 -0.00192937  0.00297855]\n",
      "18 [0 0 0 0]\n",
      "18 [ 2.87786351e-03  7.06292494e-05 -1.02145350e-03]\n",
      "19 [1 1 1 1]\n",
      "19 [ 0.00087786 -0.00192937  0.00297855]\n",
      "20 [0 0 0 0]\n",
      "20 [ 2.87786351e-03  7.06292494e-05 -1.02145350e-03]\n",
      "21 [1 1 1 1]\n",
      "21 [ 0.00087786 -0.00192937  0.00297855]\n",
      "22 [0 0 0 0]\n",
      "22 [ 2.87786351e-03  7.06292494e-05 -1.02145350e-03]\n",
      "23 [1 1 1 1]\n",
      "23 [ 0.00087786 -0.00192937  0.00297855]\n",
      "24 [0 0 0 0]\n",
      "24 [ 2.87786351e-03  7.06292494e-05 -1.02145350e-03]\n",
      "25 [1 1 1 1]\n",
      "25 [ 0.00087786 -0.00192937  0.00297855]\n",
      "26 [0 0 0 0]\n",
      "26 [ 2.87786351e-03  7.06292494e-05 -1.02145350e-03]\n",
      "27 [1 1 1 1]\n",
      "27 [ 0.00087786 -0.00192937  0.00297855]\n",
      "28 [0 0 0 0]\n",
      "28 [ 2.87786351e-03  7.06292494e-05 -1.02145350e-03]\n",
      "29 [1 1 1 1]\n",
      "29 [ 0.00087786 -0.00192937  0.00297855]\n",
      "30 [0 0 0 0]\n",
      "30 [ 2.87786351e-03  7.06292494e-05 -1.02145350e-03]\n",
      "31 [1 1 1 1]\n",
      "31 [ 0.00087786 -0.00192937  0.00297855]\n",
      "32 [0 0 0 0]\n",
      "32 [ 2.87786351e-03  7.06292494e-05 -1.02145350e-03]\n",
      "33 [1 1 1 1]\n",
      "33 [ 0.00087786 -0.00192937  0.00297855]\n",
      "34 [0 0 0 0]\n",
      "34 [ 2.87786351e-03  7.06292494e-05 -1.02145350e-03]\n",
      "35 [1 1 1 1]\n",
      "35 [ 0.00087786 -0.00192937  0.00297855]\n",
      "36 [0 0 0 0]\n",
      "36 [ 2.87786351e-03  7.06292494e-05 -1.02145350e-03]\n",
      "37 [1 1 1 1]\n",
      "37 [ 0.00087786 -0.00192937  0.00297855]\n",
      "38 [0 0 0 0]\n",
      "38 [ 2.87786351e-03  7.06292494e-05 -1.02145350e-03]\n",
      "39 [1 1 1 1]\n",
      "39 [ 0.00087786 -0.00192937  0.00297855]\n",
      "40 [0 0 0 0]\n",
      "40 [ 2.87786351e-03  7.06292494e-05 -1.02145350e-03]\n",
      "41 [1 1 1 1]\n",
      "41 [ 0.00087786 -0.00192937  0.00297855]\n",
      "42 [0 0 0 0]\n",
      "42 [ 2.87786351e-03  7.06292494e-05 -1.02145350e-03]\n",
      "43 [1 1 1 1]\n",
      "43 [ 0.00087786 -0.00192937  0.00297855]\n",
      "44 [0 0 0 0]\n",
      "44 [ 2.87786351e-03  7.06292494e-05 -1.02145350e-03]\n",
      "45 [1 1 1 1]\n",
      "45 [ 0.00087786 -0.00192937  0.00297855]\n",
      "46 [0 0 0 0]\n",
      "46 [ 2.87786351e-03  7.06292494e-05 -1.02145350e-03]\n",
      "47 [1 1 1 1]\n",
      "47 [ 0.00087786 -0.00192937  0.00297855]\n",
      "48 [0 0 0 0]\n",
      "48 [ 2.87786351e-03  7.06292494e-05 -1.02145350e-03]\n",
      "49 [1 1 1 1]\n",
      "49 [ 0.00087786 -0.00192937  0.00297855]\n"
     ]
    },
    {
     "data": {
      "text/plain": [
       "array([ 0.00087786, -0.00192937,  0.00297855])"
      ]
     },
     "execution_count": 124,
     "metadata": {},
     "output_type": "execute_result"
    }
   ],
   "source": [
    "train(inputs, targets, w, 0.002, 50)"
   ]
  },
  {
   "cell_type": "code",
   "execution_count": 10,
   "id": "475f2884",
   "metadata": {},
   "outputs": [
    {
     "name": "stdout",
     "output_type": "stream",
     "text": [
      "2002, 2009, 2016, 2023, 2037, 2044, 2051, 2058, 2072, 2079, 2086, 2093, 2107, 2114, 2121, 2128, 2142, 2149, 2156, 2163, 2177, 2184, 2191, 2198, 2212, 2219, 2226, 2233, 2247, 2254, 2261, 2268, 2282, 2289, 2296, 2303, 2317, 2324, 2331, 2338, 2352, 2359, 2366, 2373, 2387, 2394, 2401, 2408, 2422, 2429, 2436, 2443, 2457, 2464, 2471, 2478, 2492, 2499, 2506, 2513, 2527, 2534, 2541, 2548, 2562, 2569, 2576, 2583, 2597, 2604, 2611, 2618, 2632, 2639, 2646, 2653, 2667, 2674, 2681, 2688, 2702, 2709, 2716, 2723, 2737, 2744, 2751, 2758, 2772, 2779, 2786, 2793, 2807, 2814, 2821, 2828, 2842, 2849, 2856, 2863, 2877, 2884, 2891, 2898, 2912, 2919, 2926, 2933, 2947, 2954, 2961, 2968, 2982, 2989, 2996, 3003, 3017, 3024, 3031, 3038, 3052, 3059, 3066, 3073, 3087, 3094, 3101, 3108, 3122, 3129, 3136, 3143, 3157, 3164, 3171, 3178, 3192, 3199, "
     ]
    }
   ],
   "source": [
    "for i in range(2000,3201):\n",
    "    if (i%7==0) and (i%5 != 0): \n",
    "        print(i, end=\", \")"
   ]
  },
  {
   "cell_type": "code",
   "execution_count": 39,
   "id": "e4282ed1",
   "metadata": {},
   "outputs": [
    {
     "name": "stdout",
     "output_type": "stream",
     "text": [
      "Enter first name: rishab\n",
      "Enter last name: raina\n",
      "Output:  bahsir aniar\n"
     ]
    }
   ],
   "source": [
    "first = input(\"Enter first name: \")\n",
    "last = input(\"Enter last name: \")\n",
    "print(\"Output: \",first[::-1] +\" \"+ last[::-1])"
   ]
  },
  {
   "cell_type": "code",
   "execution_count": 49,
   "id": "2f7e55e0",
   "metadata": {},
   "outputs": [
    {
     "name": "stdout",
     "output_type": "stream",
     "text": [
      "904.7786842338603\n"
     ]
    }
   ],
   "source": [
    "import math\n",
    "# V = 4/3 * π * r^3\n",
    "diameter = 12\n",
    "r = diameter / 2\n",
    "volume = 4/3 * math.pi * r**3\n",
    "print(volume)"
   ]
  },
  {
   "cell_type": "code",
   "execution_count": null,
   "id": "8e0f4674",
   "metadata": {},
   "outputs": [],
   "source": []
  },
  {
   "cell_type": "code",
   "execution_count": null,
   "id": "2b498f40",
   "metadata": {},
   "outputs": [],
   "source": []
  },
  {
   "cell_type": "code",
   "execution_count": null,
   "id": "27e9a32e",
   "metadata": {},
   "outputs": [],
   "source": []
  }
 ],
 "metadata": {
  "kernelspec": {
   "display_name": "Python 3 (ipykernel)",
   "language": "python",
   "name": "python3"
  },
  "language_info": {
   "codemirror_mode": {
    "name": "ipython",
    "version": 3
   },
   "file_extension": ".py",
   "mimetype": "text/x-python",
   "name": "python",
   "nbconvert_exporter": "python",
   "pygments_lexer": "ipython3",
   "version": "3.10.4"
  }
 },
 "nbformat": 4,
 "nbformat_minor": 5
}
